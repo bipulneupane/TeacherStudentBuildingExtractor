{
 "cells": [
  {
   "cell_type": "code",
   "execution_count": null,
   "id": "e1b14f5f",
   "metadata": {
    "executionInfo": {
     "elapsed": 720,
     "status": "ok",
     "timestamp": 1646780680651,
     "user": {
      "displayName": "Bipul Neupane",
      "photoUrl": "https://lh3.googleusercontent.com/a-/AOh14GhHfZEiQA-7fnsbXNBJaM7FDqpcVwb8lrmd2P6_=s64",
      "userId": "14400474834013097471"
     },
     "user_tz": -660
    },
    "id": "e1b14f5f",
    "scrolled": true
   },
   "outputs": [],
   "source": [
    "import geopandas\n",
    "import os\n",
    "from pygeotile.point import Point\n",
    "from pygeotile.tile import Tile\n",
    "from pygeotile.meta import TILE_SIZE\n",
    "import requests\n",
    "from PIL import Image\n",
    "import random\n",
    "from shutil import copy2\n",
    "import json\n",
    "import matplotlib.pyplot as plt"
   ]
  },
  {
   "cell_type": "code",
   "execution_count": null,
   "id": "1ca006eb",
   "metadata": {},
   "outputs": [],
   "source": [
    "import fiona"
   ]
  },
  {
   "cell_type": "markdown",
   "id": "d51a24cf",
   "metadata": {
    "id": "d51a24cf"
   },
   "source": [
    "## Reading Polygons"
   ]
  },
  {
   "cell_type": "code",
   "execution_count": null,
   "id": "12291a79",
   "metadata": {
    "colab": {
     "base_uri": "https://localhost:8080/"
    },
    "executionInfo": {
     "elapsed": 462,
     "status": "ok",
     "timestamp": 1646553047643,
     "user": {
      "displayName": "Bipul Neupane",
      "photoUrl": "https://lh3.googleusercontent.com/a-/AOh14GhHfZEiQA-7fnsbXNBJaM7FDqpcVwb8lrmd2P6_=s64",
      "userId": "14400474834013097471"
     },
     "user_tz": -660
    },
    "id": "12291a79",
    "outputId": "b3bb6bc0-b809-4b26-f043-981da990c405"
   },
   "outputs": [],
   "source": [
    "polygons_paths = [os.path.join('./', 'CityPolygon', 'polygon_edited.shp')]\n",
    "lines_path = os.path.join('./', 'CityPolygon', 'polygon_lines_generated.shp')\n",
    "\n",
    "## check zoom levels and resolution at: https://help.nearmap.com/kb/articles/293-zoom-and-x-y-values-in-tms\n",
    "zoom = 18 # Zoom levels used to collect the multi-resolution images in the paper: 17, 18 and 19\n",
    "res = 0.593 # 1.186, 0.593, and 0.297 for zoom levels 17, 18 and 19 respectively\n",
    "data_name = \"MELB-zoom18\"\n",
    "rgb_path = os.path.join('./', 'Gather_tiles', data_name, 'images')"
   ]
  },
  {
   "cell_type": "code",
   "execution_count": null,
   "id": "bbe91f0c",
   "metadata": {
    "colab": {
     "base_uri": "https://localhost:8080/",
     "height": 567
    },
    "executionInfo": {
     "elapsed": 8516,
     "status": "ok",
     "timestamp": 1646550421749,
     "user": {
      "displayName": "Bipul Neupane",
      "photoUrl": "https://lh3.googleusercontent.com/a-/AOh14GhHfZEiQA-7fnsbXNBJaM7FDqpcVwb8lrmd2P6_=s64",
      "userId": "14400474834013097471"
     },
     "user_tz": -660
    },
    "id": "bbe91f0c",
    "outputId": "9e19bbd2-8714-44cb-d5d9-527a0e91cae7"
   },
   "outputs": [],
   "source": [
    "bf_gdf = 0\n",
    "for i, polygons_path in enumerate(polygons_paths):\n",
    "    if isinstance(bf_gdf, geopandas.geodataframe.GeoDataFrame):\n",
    "        tmp_bf_gdf = geopandas.read_file(polygons_path)\n",
    "        tmp_bf_gdf['file_id'] = i\n",
    "        bf_gdf = bf_gdf.append(tmp_bf_gdf, ignore_index=True)\n",
    "    else:\n",
    "        bf_gdf = geopandas.read_file(polygons_path)\n",
    "        bf_gdf['file_id'] = i\n",
    "\n",
    "bf_gdf['bounds'] = bf_gdf.apply(lambda row: row['geometry'].bounds, axis=1)\n",
    "bf_gdf['centroid'] = bf_gdf.apply(lambda row: row['geometry'].centroid, axis=1)\n",
    "bf_gdf['i'] = bf_gdf.index\n",
    "bf_gdf.head()"
   ]
  },
  {
   "cell_type": "markdown",
   "id": "d5b9a16d",
   "metadata": {
    "id": "d5b9a16d"
   },
   "source": [
    "## Create Line features from polygons and save them"
   ]
  },
  {
   "cell_type": "code",
   "execution_count": null,
   "id": "a06d0bb7",
   "metadata": {
    "colab": {
     "base_uri": "https://localhost:8080/"
    },
    "executionInfo": {
     "elapsed": 29591,
     "status": "ok",
     "timestamp": 1646550479369,
     "user": {
      "displayName": "Bipul Neupane",
      "photoUrl": "https://lh3.googleusercontent.com/a-/AOh14GhHfZEiQA-7fnsbXNBJaM7FDqpcVwb8lrmd2P6_=s64",
      "userId": "14400474834013097471"
     },
     "user_tz": -660
    },
    "id": "a06d0bb7",
    "outputId": "45170b8f-ac6c-4eee-8f66-f7a7407113b0"
   },
   "outputs": [],
   "source": [
    "bf_gdf_exploded = bf_gdf.explode()\n",
    "bf_gdf_exploded_linestring = bf_gdf_exploded.set_geometry(bf_gdf_exploded.apply(lambda row: row['geometry'].boundary, axis = 1))\n",
    "bf_gdf_exploded_linestring.reset_index()\n",
    "bf_gdf_exploded_linestring.head()\n",
    "bf_gdf_exploded_linestring.pop('bounds')\n",
    "bf_gdf_exploded_linestring.pop('centroid')\n",
    "\n",
    "bf_gdf_exploded_linestring.to_file(lines_path)"
   ]
  },
  {
   "cell_type": "markdown",
   "id": "5f26e908",
   "metadata": {
    "id": "5f26e908"
   },
   "source": [
    "# Creating test and train data"
   ]
  },
  {
   "cell_type": "markdown",
   "id": "dd5c26cb",
   "metadata": {
    "id": "dd5c26cb"
   },
   "source": [
    "## NearMap Tile API"
   ]
  },
  {
   "cell_type": "code",
   "execution_count": null,
   "id": "261743d3",
   "metadata": {
    "id": "261743d3"
   },
   "outputs": [],
   "source": [
    "\"\"\"\n",
    "You need an API key to acess the images:\n",
    "https://api.nearmap.com/tiles/v3/{tileResourceType}/{z}/{x}/{y}.{format}?apikey={YOUR_API_KEY}\n",
    "\"\"\"\n",
    "\n",
    "existing_elements = set([])\n",
    "employed_tiles = {}\n",
    "for i, row in bf_gdf.iterrows():\n",
    "    geom = row.geometry\n",
    "    bound = row.bounds\n",
    "    centroid = row.centroid\n",
    "    file_id = row.file_id\n",
    "    # if file_id==0:\n",
    "    #     continue\n",
    "    zoom = zoom  # meters in Spherical Mercator EPSG:900913\n",
    "    point = Point.from_meters(centroid.x, centroid.y)\n",
    "    print(point)\n",
    "    tile = Tile.for_point(point, zoom)\n",
    "    if (tile.google[0], tile.google[1]) not in existing_elements:\n",
    "        path = \"https://api.nearmap.com/tiles/v3/Vert/{zoom_level}/{x}/{y}.png\"\n",
    "        path = path.format(zoom_level=zoom,\n",
    "                   x=tile.google[0],\n",
    "                   y=tile.google[1])\n",
    "        params = {\n",
    "            'apikey': 'put your API key here'\n",
    "        }\n",
    "        response = requests.get(path, params=params)\n",
    "        print(response)\n",
    "        if response.status_code == 200:\n",
    "            with open(os.path.join('Gather_tiles', data_name,'images', str(i)+'.png'), 'wb') as f:\n",
    "                f.write(response.content)\n",
    "            \n",
    "            existing_elements.add((tile.google[0], tile.google[1]))\n",
    "            employed_tiles[str(i)] = {'tile': (tile.google[0], tile.google[1], zoom), 'dataset_identifier': file_id}"
   ]
  },
  {
   "cell_type": "code",
   "execution_count": null,
   "id": "6d96192c",
   "metadata": {
    "id": "6d96192c"
   },
   "outputs": [],
   "source": [
    "with open(os.path.join('Gather_tiles', data_name, 'employed_tiles.json'), 'w') as f:\n",
    "    json.dump(employed_tiles, f)"
   ]
  },
  {
   "cell_type": "markdown",
   "id": "fb26f50c",
   "metadata": {
    "id": "fb26f50c"
   },
   "source": [
    "## Making the mask/label dataset"
   ]
  },
  {
   "cell_type": "code",
   "execution_count": null,
   "id": "bf9c3296",
   "metadata": {
    "colab": {
     "base_uri": "https://localhost:8080/"
    },
    "executionInfo": {
     "elapsed": 267497,
     "status": "ok",
     "timestamp": 1646552061627,
     "user": {
      "displayName": "Bipul Neupane",
      "photoUrl": "https://lh3.googleusercontent.com/a-/AOh14GhHfZEiQA-7fnsbXNBJaM7FDqpcVwb8lrmd2P6_=s64",
      "userId": "14400474834013097471"
     },
     "user_tz": -660
    },
    "id": "bf9c3296",
    "outputId": "44aad44c-7340-4fdd-9681-52e1c1d7c0d1"
   },
   "outputs": [],
   "source": [
    "from autorasterize import rasterize\n",
    "\n",
    "for k, obj in employed_tiles.items():\n",
    "    tile = obj['tile']\n",
    "    file_id = obj['dataset_identifier']\n",
    "    google_x, google_y, zoom = tile # 119098, 82116, 17\n",
    "    pixel_x_west, pixel_y_north = google_x * TILE_SIZE, google_y * TILE_SIZE\n",
    "    pixel_x_east, pixel_y_south = (google_x + 1) * TILE_SIZE, (google_y + 1) * TILE_SIZE\n",
    "    sw = Point.from_pixel(pixel_x_west, pixel_y_south, zoom).meters\n",
    "    ne = Point.from_pixel(pixel_x_east, pixel_y_north, zoom).meters\n",
    "    rasterize(polygons_paths[file_id], os.path.join('Gather_tiles', data_name,'label', str(k)+'.png') , sw[0], sw[1], ne[0], ne[1], 1.19)"
   ]
  },
  {
   "cell_type": "markdown",
   "id": "15c39048",
   "metadata": {
    "id": "15c39048"
   },
   "source": [
    "## Test and Train Splitter"
   ]
  },
  {
   "cell_type": "code",
   "execution_count": null,
   "id": "acdd127a",
   "metadata": {
    "colab": {
     "base_uri": "https://localhost:8080/"
    },
    "executionInfo": {
     "elapsed": 853,
     "status": "ok",
     "timestamp": 1646552146750,
     "user": {
      "displayName": "Bipul Neupane",
      "photoUrl": "https://lh3.googleusercontent.com/a-/AOh14GhHfZEiQA-7fnsbXNBJaM7FDqpcVwb8lrmd2P6_=s64",
      "userId": "14400474834013097471"
     },
     "user_tz": -660
    },
    "id": "acdd127a",
    "outputId": "87689bd5-310d-4630-9dbb-58db36d191a0"
   },
   "outputs": [],
   "source": [
    "rgb_files = [f for f in os.listdir(rgb_path) if os.path.isfile(os.path.join(rgb_path, f))]\n",
    "random.shuffle(rgb_files)\n",
    "files = {}\n",
    "number_of_all_files = len(rgb_files)\n",
    "number_of_train_files = int(number_of_all_files*0.7)\n",
    "files['train'] = rgb_files[:number_of_train_files]\n",
    "files['test'] = rgb_files[number_of_train_files:]\n",
    "\n",
    "file_map_path = \"./TrainingDataset/\" + data_name + \"/file_map.json\"\n",
    "with open(file_map_path, 'w') as f:\n",
    "  print(\"dumping\")\n",
    "  json.dump(files, f)"
   ]
  },
  {
   "cell_type": "code",
   "execution_count": null,
   "id": "695bd0eb",
   "metadata": {
    "colab": {
     "base_uri": "https://localhost:8080/"
    },
    "executionInfo": {
     "elapsed": 114761,
     "status": "ok",
     "timestamp": 1646552297283,
     "user": {
      "displayName": "Bipul Neupane",
      "photoUrl": "https://lh3.googleusercontent.com/a-/AOh14GhHfZEiQA-7fnsbXNBJaM7FDqpcVwb8lrmd2P6_=s64",
      "userId": "14400474834013097471"
     },
     "user_tz": -660
    },
    "id": "695bd0eb",
    "outputId": "dc1cb736-5e68-48f8-aefc-647192002e44"
   },
   "outputs": [],
   "source": [
    "for k, list_of_files in files.items():\n",
    "    counter = 0\n",
    "    print(\"preparing \", k)\n",
    "    out_path = os.path.join('./', 'TrainingDataset', data_name, k)\n",
    "    for file in list_of_files:\n",
    "        copy2(os.path.join(rgb_path, file), os.path.join(out_path, 'image', str(counter) + '.png'))\n",
    "        copy2(os.path.join('Gather_tiles', data_name, 'label', file), os.path.join(out_path, 'label', str(counter) + '.png'))\n",
    "        counter+=1"
   ]
  },
  {
   "cell_type": "markdown",
   "id": "6e292ab9",
   "metadata": {},
   "source": [
    "# All again for other zoom levels (17, 18, 19)"
   ]
  },
  {
   "cell_type": "code",
   "execution_count": null,
   "id": "f5d98232",
   "metadata": {},
   "outputs": [],
   "source": [
    "\"\"\" Data and folder paths \"\"\"\n",
    "polygons_paths = [os.path.join('./', 'CityPolygon', 'polygon_edited.shp')]\n",
    "lines_path = os.path.join('./', 'CityPolygon', 'polygon_lines_generated.shp')\n",
    "\n",
    "## check zoom levels and resolution at: https://help.nearmap.com/kb/articles/293-zoom-and-x-y-values-in-tms\n",
    "zoom = 18 # Zoom levels used to collect the multi-resolution images in the paper: 17, 18 and 19\n",
    "res = 0.593 # 1.186, 0.593, and 0.297 for zoom levels 17, 18 and 19 respectively\n",
    "data_name = \"MELB-zoom18\"\n",
    "rgb_path = os.path.join('./', 'Gather_tiles', data_name, 'images')\n",
    "\n",
    "\n",
    "\"\"\" Read data \"\"\"\n",
    "bf_gdf = 0\n",
    "for i, polygons_path in enumerate(polygons_paths):\n",
    "    if isinstance(bf_gdf, geopandas.geodataframe.GeoDataFrame):\n",
    "        tmp_bf_gdf = geopandas.read_file(polygons_path)\n",
    "        tmp_bf_gdf['file_id'] = i\n",
    "        bf_gdf = bf_gdf.append(tmp_bf_gdf, ignore_index=True)\n",
    "    else:\n",
    "        bf_gdf = geopandas.read_file(polygons_path)\n",
    "        bf_gdf['file_id'] = i\n",
    "\n",
    "bf_gdf['bounds'] = bf_gdf.apply(lambda row: row['geometry'].bounds, axis=1)\n",
    "bf_gdf['centroid'] = bf_gdf.apply(lambda row: row['geometry'].centroid, axis=1)\n",
    "bf_gdf['i'] = bf_gdf.index\n",
    "#bf_gdf.head()\n",
    "\n",
    "\n",
    "\"\"\" Explode \"\"\"\n",
    "bf_gdf_exploded = bf_gdf.explode()\n",
    "bf_gdf_exploded_linestring = bf_gdf_exploded.set_geometry(bf_gdf_exploded.apply(lambda row: row['geometry'].boundary, axis = 1))\n",
    "bf_gdf_exploded_linestring.reset_index()\n",
    "bf_gdf_exploded_linestring.head()\n",
    "bf_gdf_exploded_linestring.pop('bounds')\n",
    "bf_gdf_exploded_linestring.pop('centroid')\n",
    "\n",
    "bf_gdf_exploded_linestring.to_file(lines_path)\n",
    "\n",
    "\"\"\"\n",
    "NEARMAP TILE API \n",
    "You need an API key to acess the images:\n",
    "https://api.nearmap.com/tiles/v3/{tileResourceType}/{z}/{x}/{y}.{format}?apikey={YOUR_API_KEY}\n",
    "\"\"\"\n",
    "existing_elements = set([])\n",
    "employed_tiles = {}\n",
    "for i, row in bf_gdf.iterrows():\n",
    "    geom = row.geometry\n",
    "    bound = row.bounds\n",
    "    centroid = row.centroid\n",
    "    file_id = row.file_id\n",
    "    # if file_id==0:\n",
    "    #     continue\n",
    "    zoom = zoom  # meters in Spherical Mercator EPSG:900913\n",
    "    point = Point.from_meters(centroid.x, centroid.y)\n",
    "    tile = Tile.for_point(point, zoom)\n",
    "    \n",
    "    if (tile.google[0], tile.google[1]) not in existing_elements:\n",
    "        path = \"https://api.nearmap.com/tiles/v3/Vert/{zoom_level}/{x}/{y}.png\"\n",
    "        path = path.format(zoom_level=zoom,\n",
    "                   x=tile.google[0],\n",
    "                   y=tile.google[1])\n",
    "        params = {\n",
    "            'apikey': 'put your API key here'\n",
    "        }\n",
    "        response = requests.get(path, params=params)\n",
    "        print(response)\n",
    "        if response.status_code == 200:\n",
    "            with open(os.path.join('Gather_tiles', data_name,'images', str(i)+'.png'), 'wb') as f:\n",
    "                f.write(response.content)\n",
    "            \n",
    "            existing_elements.add((tile.google[0], tile.google[1]))\n",
    "            employed_tiles[str(i)] = {'tile': (tile.google[0], tile.google[1], zoom), 'dataset_identifier': file_id}\n",
    "\n",
    "\n",
    "with open(os.path.join('Gather_tiles', data_name, 'employed_tiles.json'), 'w') as f:\n",
    "    json.dump(employed_tiles, f)\n",
    "    \n",
    "\n",
    "\"\"\" Making the mask/label dataset \"\"\"\n",
    "from autorasterize import rasterize\n",
    "\n",
    "for k, obj in employed_tiles.items():\n",
    "    tile = obj['tile']\n",
    "    file_id = obj['dataset_identifier']\n",
    "    google_x, google_y, zoom = tile\n",
    "    pixel_x_west, pixel_y_north = google_x * TILE_SIZE, google_y * TILE_SIZE\n",
    "    pixel_x_east, pixel_y_south = (google_x + 1) * TILE_SIZE, (google_y + 1) * TILE_SIZE\n",
    "    sw = Point.from_pixel(pixel_x_west, pixel_y_south, zoom).meters\n",
    "    ne = Point.from_pixel(pixel_x_east, pixel_y_north, zoom).meters\n",
    "    rasterize(polygons_paths[file_id], os.path.join('Gather_tiles', data_name,'label', str(k)+'.png') , sw[0], sw[1], ne[0], ne[1], 1.19)\n",
    "\n",
    "\n",
    "\"\"\" Test and Train Splitter\"\"\"\n",
    "rgb_files = [f for f in os.listdir(rgb_path) if os.path.isfile(os.path.join(rgb_path, f))]\n",
    "random.shuffle(rgb_files)\n",
    "files = {}\n",
    "number_of_all_files = len(rgb_files)\n",
    "number_of_train_files = int(number_of_all_files*0.7)\n",
    "files['train'] = rgb_files[:number_of_train_files]\n",
    "files['test'] = rgb_files[number_of_train_files:]\n",
    "\n",
    "file_map_path = \"./TrainingDataset/\" + data_name + \"/file_map.json\"\n",
    "with open(file_map_path, 'w') as f:\n",
    "  print(\"dumping\")\n",
    "  json.dump(files, f)\n",
    "    \n",
    "for k, list_of_files in files.items():\n",
    "    counter = 0\n",
    "    print(\"preparing \", k)\n",
    "    out_path = os.path.join('./', 'TrainingDataset', data_name, k)\n",
    "    for file in list_of_files:\n",
    "        copy2(os.path.join(rgb_path, file), os.path.join(out_path, 'image', str(counter) + '.png'))\n",
    "        copy2(os.path.join('Gather_tiles', data_name, 'label', file), os.path.join(out_path, 'label', str(counter) + '.png'))\n",
    "        counter+=1"
   ]
  }
 ],
 "metadata": {
  "accelerator": "GPU",
  "colab": {
   "collapsed_sections": [
    "bbba6489"
   ],
   "name": "data_gathering.ipynb",
   "provenance": [],
   "toc_visible": true
  },
  "kernelspec": {
   "display_name": "Python 3 (ipykernel)",
   "language": "python",
   "name": "python3"
  },
  "language_info": {
   "codemirror_mode": {
    "name": "ipython",
    "version": 3
   },
   "file_extension": ".py",
   "mimetype": "text/x-python",
   "name": "python",
   "nbconvert_exporter": "python",
   "pygments_lexer": "ipython3",
   "version": "3.10.6"
  }
 },
 "nbformat": 4,
 "nbformat_minor": 5
}
